{
 "cells": [
  {
   "cell_type": "markdown",
   "id": "3786423f",
   "metadata": {},
   "source": [
    "This is my first jupiter notebook. Press shift + enter to go on."
   ]
  },
  {
   "cell_type": "markdown",
   "id": "61a29284",
   "metadata": {},
   "source": [
    "# Heading 1"
   ]
  },
  {
   "cell_type": "markdown",
   "id": "f85bb8b9",
   "metadata": {},
   "source": [
    "## Heading 2"
   ]
  },
  {
   "cell_type": "code",
   "execution_count": 1,
   "id": "e9828de7",
   "metadata": {},
   "outputs": [
    {
     "name": "stdout",
     "output_type": "stream",
     "text": [
      "Hello, World!\n"
     ]
    }
   ],
   "source": [
    "print(\"Hello, World!\")"
   ]
  },
  {
   "cell_type": "markdown",
   "id": "695eb82a",
   "metadata": {},
   "source": [
    "String: any sequence of character (inside quotations)"
   ]
  },
  {
   "cell_type": "markdown",
   "id": "d826d02c",
   "metadata": {},
   "source": [
    "## Variables"
   ]
  },
  {
   "cell_type": "code",
   "execution_count": 2,
   "id": "a51f68bb",
   "metadata": {},
   "outputs": [],
   "source": [
    "greeting = \"Hello, World!\""
   ]
  },
  {
   "cell_type": "markdown",
   "id": "4b12fcaa",
   "metadata": {},
   "source": [
    "This is a variable, a bucket that contain something inside. We can reuse what is stored in the variable."
   ]
  },
  {
   "cell_type": "code",
   "execution_count": 4,
   "id": "f831bcf7",
   "metadata": {},
   "outputs": [
    {
     "name": "stdout",
     "output_type": "stream",
     "text": [
      "Hello, World!\n"
     ]
    }
   ],
   "source": [
    "print(greeting)"
   ]
  },
  {
   "cell_type": "code",
   "execution_count": 5,
   "id": "599ff108",
   "metadata": {},
   "outputs": [
    {
     "ename": "NameError",
     "evalue": "name 'greating' is not defined",
     "output_type": "error",
     "traceback": [
      "\u001b[1;31m---------------------------------------------------------------------------\u001b[0m",
      "\u001b[1;31mNameError\u001b[0m                                 Traceback (most recent call last)",
      "Cell \u001b[1;32mIn[5], line 1\u001b[0m\n\u001b[1;32m----> 1\u001b[0m \u001b[38;5;28mprint\u001b[39m(greating)\n",
      "\u001b[1;31mNameError\u001b[0m: name 'greating' is not defined"
     ]
    }
   ],
   "source": [
    "print(greating)"
   ]
  },
  {
   "cell_type": "markdown",
   "id": "67c677e3",
   "metadata": {},
   "source": [
    "when I make a error, it tells me what type of error I made."
   ]
  },
  {
   "cell_type": "code",
   "execution_count": 6,
   "id": "491fda1f",
   "metadata": {},
   "outputs": [],
   "source": [
    "greeting = \"Goodbye, World!\""
   ]
  },
  {
   "cell_type": "code",
   "execution_count": 7,
   "id": "aceb561e",
   "metadata": {},
   "outputs": [
    {
     "name": "stdout",
     "output_type": "stream",
     "text": [
      "Goodbye, World!\n"
     ]
    }
   ],
   "source": [
    "print(greeting)"
   ]
  },
  {
   "cell_type": "markdown",
   "id": "3c5906ee",
   "metadata": {},
   "source": [
    "You can overwrite a variable!"
   ]
  },
  {
   "cell_type": "markdown",
   "id": "e6272da5",
   "metadata": {},
   "source": [
    "Naming variables: variable names can contain only letters, numbers, underscores (no special character). Variable names cannot start with a number. Variable names cannot contain spaces. Variable should not be preexisting commands, such as 'print'. Variables should be short but meaningful to me."
   ]
  },
  {
   "cell_type": "markdown",
   "id": "15550f38",
   "metadata": {},
   "source": [
    "## Strings"
   ]
  },
  {
   "cell_type": "code",
   "execution_count": 8,
   "id": "fc4e43c4",
   "metadata": {},
   "outputs": [
    {
     "name": "stdout",
     "output_type": "stream",
     "text": [
      "This is a string.\n"
     ]
    }
   ],
   "source": [
    "example_1 = \"This is a string.\"\n",
    "print(example_1)"
   ]
  },
  {
   "cell_type": "code",
   "execution_count": 9,
   "id": "8dd13f22",
   "metadata": {},
   "outputs": [
    {
     "name": "stdout",
     "output_type": "stream",
     "text": [
      "This is also a string.\n"
     ]
    }
   ],
   "source": [
    "example_2 = 'This is also a string.'\n",
    "print(example_2)"
   ]
  },
  {
   "cell_type": "markdown",
   "id": "d1c8e6f1",
   "metadata": {},
   "source": [
    "You can use both double and single quotations, but you have to start and end with the same type of quotations."
   ]
  },
  {
   "cell_type": "code",
   "execution_count": 11,
   "id": "64e718a9",
   "metadata": {},
   "outputs": [
    {
     "name": "stdout",
     "output_type": "stream",
     "text": [
      "I asked the question, \"When should I use double quotes?\"\n"
     ]
    }
   ],
   "source": [
    "example_3 = 'I asked the question, \"When should I use double quotes?\"'\n",
    "print(example_3)"
   ]
  },
  {
   "cell_type": "markdown",
   "id": "04592d60",
   "metadata": {},
   "source": [
    "I can use single quotation for string when I want to put part of the string between quotations."
   ]
  },
  {
   "cell_type": "markdown",
   "id": "a0bbe35d",
   "metadata": {},
   "source": [
    "String can have methods."
   ]
  },
  {
   "cell_type": "code",
   "execution_count": 12,
   "id": "fa5cf5e2",
   "metadata": {},
   "outputs": [],
   "source": [
    "historian = 'edward gibbon'"
   ]
  },
  {
   "cell_type": "code",
   "execution_count": 13,
   "id": "9851fe72",
   "metadata": {},
   "outputs": [
    {
     "name": "stdout",
     "output_type": "stream",
     "text": [
      "edward gibbon\n"
     ]
    }
   ],
   "source": [
    "print(historian)"
   ]
  },
  {
   "cell_type": "code",
   "execution_count": 14,
   "id": "5a34c55d",
   "metadata": {},
   "outputs": [
    {
     "name": "stdout",
     "output_type": "stream",
     "text": [
      "Edward Gibbon\n"
     ]
    }
   ],
   "source": [
    "print(historian.title()) #puts the initials uppercase"
   ]
  },
  {
   "cell_type": "markdown",
   "id": "05330373",
   "metadata": {},
   "source": [
    ".title() > it puts in titlecase (uppercase). This is a method that works with every string."
   ]
  },
  {
   "cell_type": "code",
   "execution_count": 15,
   "id": "5a4e21a3",
   "metadata": {},
   "outputs": [],
   "source": [
    "novelist = \"Becky Chambers\""
   ]
  },
  {
   "cell_type": "code",
   "execution_count": 16,
   "id": "5713afb6",
   "metadata": {},
   "outputs": [
    {
     "name": "stdout",
     "output_type": "stream",
     "text": [
      "Becky Chambers\n",
      "BECKY CHAMBERS\n",
      "becky chambers\n"
     ]
    }
   ],
   "source": [
    "print(novelist)\n",
    "print(novelist.upper()) #it will be all uppercase\n",
    "print(novelist.lower()) #all lowercase"
   ]
  },
  {
   "cell_type": "code",
   "execution_count": null,
   "id": "e0f96d59",
   "metadata": {},
   "outputs": [],
   "source": []
  }
 ],
 "metadata": {
  "kernelspec": {
   "display_name": "Python 3 (ipykernel)",
   "language": "python",
   "name": "python3"
  },
  "language_info": {
   "codemirror_mode": {
    "name": "ipython",
    "version": 3
   },
   "file_extension": ".py",
   "mimetype": "text/x-python",
   "name": "python",
   "nbconvert_exporter": "python",
   "pygments_lexer": "ipython3",
   "version": "3.11.4"
  }
 },
 "nbformat": 4,
 "nbformat_minor": 5
}
