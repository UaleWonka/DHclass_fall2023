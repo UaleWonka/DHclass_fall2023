{
 "cells": [
  {
   "cell_type": "markdown",
   "id": "3786423f",
   "metadata": {},
   "source": [
    "This is my first jupiter notebook. Press shift + enter to go on."
   ]
  },
  {
   "cell_type": "markdown",
   "id": "61a29284",
   "metadata": {},
   "source": [
    "# Heading 1"
   ]
  },
  {
   "cell_type": "markdown",
   "id": "f85bb8b9",
   "metadata": {},
   "source": [
    "## Heading 2"
   ]
  },
  {
   "cell_type": "code",
   "execution_count": 1,
   "id": "e9828de7",
   "metadata": {},
   "outputs": [
    {
     "name": "stdout",
     "output_type": "stream",
     "text": [
      "Hello, World!\n"
     ]
    }
   ],
   "source": [
    "print(\"Hello, World!\")"
   ]
  },
  {
   "cell_type": "markdown",
   "id": "695eb82a",
   "metadata": {},
   "source": [
    "String: any sequence of character (inside quotations)"
   ]
  },
  {
   "cell_type": "markdown",
   "id": "d826d02c",
   "metadata": {},
   "source": [
    "## Variables"
   ]
  },
  {
   "cell_type": "code",
   "execution_count": 2,
   "id": "a51f68bb",
   "metadata": {},
   "outputs": [],
   "source": [
    "greeting = \"Hello, World!\""
   ]
  },
  {
   "cell_type": "markdown",
   "id": "4b12fcaa",
   "metadata": {},
   "source": [
    "This is a variable, a bucket that contain something inside. We can reuse what is stored in the variable."
   ]
  },
  {
   "cell_type": "code",
   "execution_count": 4,
   "id": "f831bcf7",
   "metadata": {},
   "outputs": [
    {
     "name": "stdout",
     "output_type": "stream",
     "text": [
      "Hello, World!\n"
     ]
    }
   ],
   "source": [
    "print(greeting)"
   ]
  },
  {
   "cell_type": "code",
   "execution_count": 5,
   "id": "599ff108",
   "metadata": {},
   "outputs": [
    {
     "ename": "NameError",
     "evalue": "name 'greating' is not defined",
     "output_type": "error",
     "traceback": [
      "\u001b[1;31m---------------------------------------------------------------------------\u001b[0m",
      "\u001b[1;31mNameError\u001b[0m                                 Traceback (most recent call last)",
      "Cell \u001b[1;32mIn[5], line 1\u001b[0m\n\u001b[1;32m----> 1\u001b[0m \u001b[38;5;28mprint\u001b[39m(greating)\n",
      "\u001b[1;31mNameError\u001b[0m: name 'greating' is not defined"
     ]
    }
   ],
   "source": [
    "print(greating)"
   ]
  },
  {
   "cell_type": "markdown",
   "id": "67c677e3",
   "metadata": {},
   "source": [
    "when I make a error, it tells me what type of error I made."
   ]
  },
  {
   "cell_type": "code",
   "execution_count": 6,
   "id": "491fda1f",
   "metadata": {},
   "outputs": [],
   "source": [
    "greeting = \"Goodbye, World!\""
   ]
  },
  {
   "cell_type": "code",
   "execution_count": 7,
   "id": "aceb561e",
   "metadata": {},
   "outputs": [
    {
     "name": "stdout",
     "output_type": "stream",
     "text": [
      "Goodbye, World!\n"
     ]
    }
   ],
   "source": [
    "print(greeting)"
   ]
  },
  {
   "cell_type": "markdown",
   "id": "3c5906ee",
   "metadata": {},
   "source": [
    "You can overwrite a variable!"
   ]
  },
  {
   "cell_type": "markdown",
   "id": "e6272da5",
   "metadata": {},
   "source": [
    "Naming variables: variable names can contain only letters, numbers, underscores (no special character). Variable names cannot start with a number. Variable names cannot contain spaces. Variable should not be preexisting commands, such as 'print'. Variables should be short but meaningful to me."
   ]
  },
  {
   "cell_type": "markdown",
   "id": "15550f38",
   "metadata": {},
   "source": [
    "## Strings"
   ]
  },
  {
   "cell_type": "code",
   "execution_count": 8,
   "id": "fc4e43c4",
   "metadata": {},
   "outputs": [
    {
     "name": "stdout",
     "output_type": "stream",
     "text": [
      "This is a string.\n"
     ]
    }
   ],
   "source": [
    "example_1 = \"This is a string.\"\n",
    "print(example_1)"
   ]
  },
  {
   "cell_type": "code",
   "execution_count": 9,
   "id": "8dd13f22",
   "metadata": {},
   "outputs": [
    {
     "name": "stdout",
     "output_type": "stream",
     "text": [
      "This is also a string.\n"
     ]
    }
   ],
   "source": [
    "example_2 = 'This is also a string.'\n",
    "print(example_2)"
   ]
  },
  {
   "cell_type": "markdown",
   "id": "d1c8e6f1",
   "metadata": {},
   "source": [
    "You can use both double and single quotations, but you have to start and end with the same type of quotations."
   ]
  },
  {
   "cell_type": "code",
   "execution_count": 11,
   "id": "64e718a9",
   "metadata": {},
   "outputs": [
    {
     "name": "stdout",
     "output_type": "stream",
     "text": [
      "I asked the question, \"When should I use double quotes?\"\n"
     ]
    }
   ],
   "source": [
    "example_3 = 'I asked the question, \"When should I use double quotes?\"'\n",
    "print(example_3)"
   ]
  },
  {
   "cell_type": "markdown",
   "id": "04592d60",
   "metadata": {},
   "source": [
    "I can use single quotation for string when I want to put part of the string between quotations."
   ]
  },
  {
   "cell_type": "markdown",
   "id": "a0bbe35d",
   "metadata": {},
   "source": [
    "String can have methods."
   ]
  },
  {
   "cell_type": "code",
   "execution_count": 12,
   "id": "fa5cf5e2",
   "metadata": {},
   "outputs": [],
   "source": [
    "historian = 'edward gibbon'"
   ]
  },
  {
   "cell_type": "code",
   "execution_count": 13,
   "id": "9851fe72",
   "metadata": {},
   "outputs": [
    {
     "name": "stdout",
     "output_type": "stream",
     "text": [
      "edward gibbon\n"
     ]
    }
   ],
   "source": [
    "print(historian)"
   ]
  },
  {
   "cell_type": "code",
   "execution_count": 14,
   "id": "5a34c55d",
   "metadata": {},
   "outputs": [
    {
     "name": "stdout",
     "output_type": "stream",
     "text": [
      "Edward Gibbon\n"
     ]
    }
   ],
   "source": [
    "print(historian.title()) #puts the initials uppercase"
   ]
  },
  {
   "cell_type": "markdown",
   "id": "05330373",
   "metadata": {},
   "source": [
    ".title() > it puts in titlecase (uppercase). This is a method that works with every string."
   ]
  },
  {
   "cell_type": "code",
   "execution_count": 15,
   "id": "5a4e21a3",
   "metadata": {},
   "outputs": [],
   "source": [
    "novelist = \"Becky Chambers\""
   ]
  },
  {
   "cell_type": "code",
   "execution_count": 16,
   "id": "5713afb6",
   "metadata": {},
   "outputs": [
    {
     "name": "stdout",
     "output_type": "stream",
     "text": [
      "Becky Chambers\n",
      "BECKY CHAMBERS\n",
      "becky chambers\n"
     ]
    }
   ],
   "source": [
    "print(novelist)\n",
    "print(novelist.upper()) #it will be all uppercase\n",
    "print(novelist.lower()) #all lowercase"
   ]
  },
  {
   "cell_type": "code",
   "execution_count": 3,
   "id": "e0f96d59",
   "metadata": {},
   "outputs": [],
   "source": [
    "string_x = \"Can you find the x in this string?\""
   ]
  },
  {
   "cell_type": "code",
   "execution_count": 5,
   "id": "bb82a80b",
   "metadata": {},
   "outputs": [
    {
     "name": "stdout",
     "output_type": "stream",
     "text": [
      "Can you find the x in this string?\n"
     ]
    }
   ],
   "source": [
    "print(string_x)"
   ]
  },
  {
   "cell_type": "code",
   "execution_count": 6,
   "id": "eee5d72e",
   "metadata": {
    "collapsed": true
   },
   "outputs": [
    {
     "name": "stdout",
     "output_type": "stream",
     "text": [
      "17\n"
     ]
    }
   ],
   "source": [
    "print(string_x.find(\"x\"))"
   ]
  },
  {
   "cell_type": "markdown",
   "id": "5f81413a",
   "metadata": {},
   "source": [
    "With the method .find() we can find a certain part of the string. It will return the index of the letter (starting from 0 )"
   ]
  },
  {
   "cell_type": "markdown",
   "id": "8ee3eed2",
   "metadata": {},
   "source": [
    "Strings are a datatype in Python. We move now to another one"
   ]
  },
  {
   "cell_type": "markdown",
   "id": "b5eb18ac",
   "metadata": {},
   "source": [
    "## Integer"
   ]
  },
  {
   "cell_type": "markdown",
   "id": "4e033b5f",
   "metadata": {},
   "source": [
    "Integers are whole numbers."
   ]
  },
  {
   "cell_type": "code",
   "execution_count": 7,
   "id": "28f07b55",
   "metadata": {},
   "outputs": [
    {
     "data": {
      "text/plain": [
       "4254"
      ]
     },
     "execution_count": 7,
     "metadata": {},
     "output_type": "execute_result"
    }
   ],
   "source": [
    "678 + 3576"
   ]
  },
  {
   "cell_type": "code",
   "execution_count": 8,
   "id": "042cb0c0",
   "metadata": {},
   "outputs": [
    {
     "data": {
      "text/plain": [
       "12"
      ]
     },
     "execution_count": 8,
     "metadata": {},
     "output_type": "execute_result"
    }
   ],
   "source": [
    "19 - 7 "
   ]
  },
  {
   "cell_type": "code",
   "execution_count": 9,
   "id": "8fb0d58a",
   "metadata": {},
   "outputs": [
    {
     "data": {
      "text/plain": [
       "162"
      ]
     },
     "execution_count": 9,
     "metadata": {},
     "output_type": "execute_result"
    }
   ],
   "source": [
    " 54 * 3"
   ]
  },
  {
   "cell_type": "code",
   "execution_count": 10,
   "id": "0c23663c",
   "metadata": {},
   "outputs": [
    {
     "data": {
      "text/plain": [
       "3.0"
      ]
     },
     "execution_count": 10,
     "metadata": {},
     "output_type": "execute_result"
    }
   ],
   "source": [
    "30 / 10"
   ]
  },
  {
   "cell_type": "markdown",
   "id": "98e051eb",
   "metadata": {},
   "source": [
    "N.B. 3.0 is a float, since it has decimals."
   ]
  },
  {
   "cell_type": "markdown",
   "id": "3130bd82",
   "metadata": {},
   "source": [
    "I can do exponents too:"
   ]
  },
  {
   "cell_type": "code",
   "execution_count": 11,
   "id": "f66bec16",
   "metadata": {},
   "outputs": [
    {
     "data": {
      "text/plain": [
       "27"
      ]
     },
     "execution_count": 11,
     "metadata": {},
     "output_type": "execute_result"
    }
   ],
   "source": [
    "3 ** 3"
   ]
  },
  {
   "cell_type": "markdown",
   "id": "1a07da94",
   "metadata": {},
   "source": [
    "With floats we can do the same types of operations:"
   ]
  },
  {
   "cell_type": "code",
   "execution_count": 12,
   "id": "88df21d3",
   "metadata": {},
   "outputs": [
    {
     "data": {
      "text/plain": [
       "0.7"
      ]
     },
     "execution_count": 12,
     "metadata": {},
     "output_type": "execute_result"
    }
   ],
   "source": [
    "0.2 + 0.5"
   ]
  },
  {
   "cell_type": "code",
   "execution_count": 13,
   "id": "cf753dd3",
   "metadata": {},
   "outputs": [],
   "source": [
    "large_number = 1_000_000 #you can put underscore where you usually put commas"
   ]
  },
  {
   "cell_type": "code",
   "execution_count": 14,
   "id": "50935d61",
   "metadata": {},
   "outputs": [
    {
     "data": {
      "text/plain": [
       "1000002"
      ]
     },
     "execution_count": 14,
     "metadata": {},
     "output_type": "execute_result"
    }
   ],
   "source": [
    "large_number + 2 "
   ]
  },
  {
   "cell_type": "markdown",
   "id": "437708c6",
   "metadata": {},
   "source": [
    "We can use variables inside equations"
   ]
  },
  {
   "cell_type": "code",
   "execution_count": 15,
   "id": "4ceb1fc9",
   "metadata": {},
   "outputs": [],
   "source": [
    "x, y, z = 1, 2, 3"
   ]
  },
  {
   "cell_type": "code",
   "execution_count": 16,
   "id": "fa844b12",
   "metadata": {},
   "outputs": [
    {
     "name": "stdout",
     "output_type": "stream",
     "text": [
      "3\n"
     ]
    }
   ],
   "source": [
    "print(z)"
   ]
  },
  {
   "cell_type": "code",
   "execution_count": 17,
   "id": "0e48ebd5",
   "metadata": {},
   "outputs": [
    {
     "data": {
      "text/plain": [
       "3"
      ]
     },
     "execution_count": 17,
     "metadata": {},
     "output_type": "execute_result"
    }
   ],
   "source": [
    "x + y"
   ]
  },
  {
   "cell_type": "markdown",
   "id": "e1ebb049",
   "metadata": {},
   "source": [
    "We can define more than one variable at time"
   ]
  },
  {
   "cell_type": "code",
   "execution_count": 18,
   "id": "447c1c98",
   "metadata": {},
   "outputs": [
    {
     "ename": "TypeError",
     "evalue": "can only concatenate str (not \"int\") to str",
     "output_type": "error",
     "traceback": [
      "\u001b[1;31m---------------------------------------------------------------------------\u001b[0m",
      "\u001b[1;31mTypeError\u001b[0m                                 Traceback (most recent call last)",
      "Cell \u001b[1;32mIn[18], line 1\u001b[0m\n\u001b[1;32m----> 1\u001b[0m \u001b[38;5;124m'\u001b[39m\u001b[38;5;124m14\u001b[39m\u001b[38;5;124m'\u001b[39m \u001b[38;5;241m+\u001b[39m \u001b[38;5;241m6\u001b[39m\n",
      "\u001b[1;31mTypeError\u001b[0m: can only concatenate str (not \"int\") to str"
     ]
    }
   ],
   "source": [
    "'14' + 6\n",
    "#this is a string because it has quotation"
   ]
  },
  {
   "cell_type": "markdown",
   "id": "b2e514be",
   "metadata": {},
   "source": [
    "I cannot use two different datatypes together"
   ]
  },
  {
   "cell_type": "code",
   "execution_count": 19,
   "id": "b12ee7b4",
   "metadata": {},
   "outputs": [
    {
     "data": {
      "text/plain": [
       "'146'"
      ]
     },
     "execution_count": 19,
     "metadata": {},
     "output_type": "execute_result"
    }
   ],
   "source": [
    "'14' + '6'"
   ]
  },
  {
   "cell_type": "markdown",
   "id": "476ce7ba",
   "metadata": {},
   "source": [
    "This is called concatenation."
   ]
  },
  {
   "cell_type": "code",
   "execution_count": 20,
   "id": "36d25b2b",
   "metadata": {},
   "outputs": [
    {
     "name": "stdout",
     "output_type": "stream",
     "text": [
      "<class 'str'>\n"
     ]
    }
   ],
   "source": [
    "print(type('14'))"
   ]
  },
  {
   "cell_type": "code",
   "execution_count": 21,
   "id": "c6c866ce",
   "metadata": {},
   "outputs": [
    {
     "name": "stdout",
     "output_type": "stream",
     "text": [
      "<class 'int'>\n"
     ]
    }
   ],
   "source": [
    "print(type(x))"
   ]
  },
  {
   "cell_type": "markdown",
   "id": "7e533ef2",
   "metadata": {},
   "source": [
    "The method type() tells you what datatype are you dealing with"
   ]
  },
  {
   "cell_type": "markdown",
   "id": "c76c5813",
   "metadata": {},
   "source": [
    "## List"
   ]
  },
  {
   "cell_type": "markdown",
   "id": "e341543f",
   "metadata": {},
   "source": [
    "A list is a sequence of something. They need to be in square bracket. The items are separated by commas"
   ]
  },
  {
   "cell_type": "code",
   "execution_count": 22,
   "id": "1a2226d0",
   "metadata": {},
   "outputs": [],
   "source": [
    "subjects = ['Classics', 'History', 'Literature']"
   ]
  },
  {
   "cell_type": "markdown",
   "id": "b0eeab1c",
   "metadata": {},
   "source": [
    "Elements of a list have an index starting from zero"
   ]
  },
  {
   "cell_type": "code",
   "execution_count": 23,
   "id": "f87ca3f1",
   "metadata": {},
   "outputs": [
    {
     "name": "stdout",
     "output_type": "stream",
     "text": [
      "['Classics', 'History', 'Literature']\n"
     ]
    }
   ],
   "source": [
    "print(subjects)"
   ]
  },
  {
   "cell_type": "code",
   "execution_count": 24,
   "id": "c2867797",
   "metadata": {},
   "outputs": [
    {
     "name": "stdout",
     "output_type": "stream",
     "text": [
      "Classics\n"
     ]
    }
   ],
   "source": [
    "print(subjects[0]) #to get a particular item of a list you put the index position"
   ]
  },
  {
   "cell_type": "code",
   "execution_count": 25,
   "id": "63d378cb",
   "metadata": {},
   "outputs": [
    {
     "data": {
      "text/plain": [
       "'Classics'"
      ]
     },
     "execution_count": 25,
     "metadata": {},
     "output_type": "execute_result"
    }
   ],
   "source": [
    "subjects[0]"
   ]
  },
  {
   "cell_type": "markdown",
   "id": "f872c938",
   "metadata": {},
   "source": [
    "Jupyter prints even if you don't use the print command, but in other coding enviroments it does not work like this and you need always to use the print command."
   ]
  },
  {
   "cell_type": "code",
   "execution_count": null,
   "id": "6c76bb1d",
   "metadata": {},
   "outputs": [],
   "source": []
  }
 ],
 "metadata": {
  "kernelspec": {
   "display_name": "Python 3 (ipykernel)",
   "language": "python",
   "name": "python3"
  },
  "language_info": {
   "codemirror_mode": {
    "name": "ipython",
    "version": 3
   },
   "file_extension": ".py",
   "mimetype": "text/x-python",
   "name": "python",
   "nbconvert_exporter": "python",
   "pygments_lexer": "ipython3",
   "version": "3.11.4"
  }
 },
 "nbformat": 4,
 "nbformat_minor": 5
}
