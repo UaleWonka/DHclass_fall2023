{
 "cells": [
  {
   "cell_type": "markdown",
   "id": "b70845b2",
   "metadata": {},
   "source": [
    "# Chapter 3"
   ]
  },
  {
   "cell_type": "markdown",
   "id": "0762b502",
   "metadata": {},
   "source": [
    "## 3.1"
   ]
  },
  {
   "cell_type": "code",
   "execution_count": 2,
   "id": "9cbe4329",
   "metadata": {},
   "outputs": [
    {
     "name": "stdout",
     "output_type": "stream",
     "text": [
      "Alessandro\n"
     ]
    }
   ],
   "source": [
    "friends = ['Alessandro', 'Ilaria', 'Giulia', 'Chiara', 'Arianna']\n",
    "print(friends[0])"
   ]
  },
  {
   "cell_type": "code",
   "execution_count": 3,
   "id": "0a6fb676",
   "metadata": {},
   "outputs": [
    {
     "name": "stdout",
     "output_type": "stream",
     "text": [
      "Chiara\n"
     ]
    }
   ],
   "source": [
    "print(friends[3])"
   ]
  },
  {
   "cell_type": "code",
   "execution_count": 4,
   "id": "d61ed038",
   "metadata": {},
   "outputs": [
    {
     "name": "stdout",
     "output_type": "stream",
     "text": [
      "Ilaria\n"
     ]
    }
   ],
   "source": [
    "print(friends[1])"
   ]
  },
  {
   "cell_type": "code",
   "execution_count": 5,
   "id": "e9d2484a",
   "metadata": {},
   "outputs": [
    {
     "name": "stdout",
     "output_type": "stream",
     "text": [
      "Giulia\n",
      "Arianna\n"
     ]
    }
   ],
   "source": [
    "print(friends[2])\n",
    "print(friends[4])\n"
   ]
  },
  {
   "cell_type": "markdown",
   "id": "082c9d6c",
   "metadata": {},
   "source": [
    "## 3.2"
   ]
  },
  {
   "cell_type": "code",
   "execution_count": 6,
   "id": "4cac6df4",
   "metadata": {},
   "outputs": [
    {
     "name": "stdout",
     "output_type": "stream",
     "text": [
      "Alessandro do you like tea?\n",
      "Ilaria do you like tea?\n",
      "Giulia do you like tea?\n",
      "Chiara do you like tea?\n",
      "Arianna do you like tea?\n"
     ]
    }
   ],
   "source": [
    "message = \" do you like tea?\"\n",
    "print(friends[0] + message)\n",
    "print(friends[1] + message)\n",
    "print(friends[2] + message)\n",
    "print(friends[3] + message)\n",
    "print(friends[4] + message)"
   ]
  },
  {
   "cell_type": "markdown",
   "id": "53e5cf9a",
   "metadata": {},
   "source": [
    "## 3.3"
   ]
  },
  {
   "cell_type": "code",
   "execution_count": 9,
   "id": "6cf9db6a",
   "metadata": {},
   "outputs": [
    {
     "name": "stdout",
     "output_type": "stream",
     "text": [
      "My favorite mean of transport is train\n",
      "I don't like using the car\n",
      "I want to use the bike\n"
     ]
    }
   ],
   "source": [
    "transport = [\"car\", \"bike\", \"train\"]\n",
    "print(\"My favorite mean of transport is \" + transport[2])\n",
    "print(\"I don't like using the \" + transport[0])\n",
    "print(\"I want to use the \" + transport[1])"
   ]
  },
  {
   "cell_type": "markdown",
   "id": "3211f288",
   "metadata": {},
   "source": [
    "## 3.4"
   ]
  },
  {
   "cell_type": "code",
   "execution_count": 10,
   "id": "d782be23",
   "metadata": {},
   "outputs": [
    {
     "name": "stdout",
     "output_type": "stream",
     "text": [
      "Cleopatra would you like joining me for dinner?\n",
      "Elizabeth I would you like joining me for dinner?\n",
      "Joan of Arc would you like joining me for dinner?\n"
     ]
    }
   ],
   "source": [
    "dinner = [\"Cleopatra\", \"Elizabeth I\", \"Joan of Arc\"]\n",
    "invitation = \" would you like joining me for dinner?\"\n",
    "print(dinner[0] + invitation)\n",
    "print(dinner[1] + invitation)\n",
    "print(dinner[2] + invitation)"
   ]
  },
  {
   "cell_type": "markdown",
   "id": "6b855988",
   "metadata": {},
   "source": [
    "## 3.5"
   ]
  },
  {
   "cell_type": "code",
   "execution_count": 12,
   "id": "0101157a",
   "metadata": {},
   "outputs": [
    {
     "name": "stdout",
     "output_type": "stream",
     "text": [
      "Cleopatra would you like joining me for dinner?\n",
      "Elizabeth I would you like joining me for dinner?\n",
      "Joan of Arc would you like joining me for dinner?\n",
      "Elizabeth I says she is not gonna join me\n",
      "Cleopatra would you like joining me for dinner?\n",
      "Marylin Monroe would you like joining me for dinner?\n",
      "Joan of Arc would you like joining me for dinner?\n"
     ]
    }
   ],
   "source": [
    "dinner = [\"Cleopatra\", \"Elizabeth I\", \"Joan of Arc\"]\n",
    "invitation = \" would you like joining me for dinner?\"\n",
    "print(dinner[0] + invitation)\n",
    "print(dinner[1] + invitation)\n",
    "print(dinner[2] + invitation)\n",
    "\n",
    "print(dinner[1] + \" says she is not gonna join me\")\n",
    "\n",
    "dinner[1] = \"Marylin Monroe\"\n",
    "\n",
    "\n",
    "print(dinner[0] + invitation)\n",
    "print(dinner[1] + invitation)\n",
    "print(dinner[2] + invitation)"
   ]
  },
  {
   "cell_type": "markdown",
   "id": "d281d856",
   "metadata": {},
   "source": [
    "## 3.6"
   ]
  },
  {
   "cell_type": "code",
   "execution_count": 14,
   "id": "6340cd09",
   "metadata": {},
   "outputs": [
    {
     "name": "stdout",
     "output_type": "stream",
     "text": [
      "Cleopatra would you like joining me for dinner?\n",
      "Elizabeth I would you like joining me for dinner?\n",
      "Joan of Arc would you like joining me for dinner?\n",
      "I found a bigger table!\n",
      "Marylin Monroe would you like joining me for dinner?\n",
      "Cleopatra would you like joining me for dinner?\n",
      "Elizabeth I would you like joining me for dinner?\n",
      "Joan of Arc would you like joining me for dinner?\n",
      "Aphrodite would you like joining me for dinner?\n"
     ]
    }
   ],
   "source": [
    "dinner = [\"Cleopatra\", \"Elizabeth I\", \"Joan of Arc\"]\n",
    "invitation = \" would you like joining me for dinner?\"\n",
    "print(dinner[0] + invitation)\n",
    "print(dinner[1] + invitation)\n",
    "print(dinner[2] + invitation)\n",
    "\n",
    "print(\"I found a bigger table!\")\n",
    "\n",
    "dinner.insert(0, \"Marylin Monroe\")\n",
    "dinner.append(\"Aphrodite\")\n",
    "\n",
    "print(dinner[0] + invitation)\n",
    "print(dinner[1] + invitation)\n",
    "print(dinner[2] + invitation)\n",
    "print(dinner[3] + invitation)\n",
    "print(dinner[4] + invitation)"
   ]
  },
  {
   "cell_type": "markdown",
   "id": "3098eb50",
   "metadata": {},
   "source": [
    "## 3.7"
   ]
  },
  {
   "cell_type": "code",
   "execution_count": 18,
   "id": "6961047b",
   "metadata": {},
   "outputs": [
    {
     "name": "stdout",
     "output_type": "stream",
     "text": [
      "Cleopatra would you like joining me for dinner?\n",
      "Elizabeth I would you like joining me for dinner?\n",
      "Joan of Arc would you like joining me for dinner?\n",
      "I found a bigger table!\n",
      "Marylin Monroe would you like joining me for dinner?\n",
      "Cleopatra would you like joining me for dinner?\n",
      "Elizabeth I would you like joining me for dinner?\n",
      "Joan of Arc would you like joining me for dinner?\n",
      "Aphrodite would you like joining me for dinner?\n",
      "Oh no, I am sorry but I can invite only two persons!\n",
      "I am sorry Aphrodite but I cannot invite you anymore\n",
      "I am sorry Joan of Arc but I cannot invite you anymore\n",
      "I am sorry Elizabeth I but I cannot invite you anymore\n",
      "Marylin Monroe, you are still invited!\n",
      "Cleopatra, you are still invited!\n",
      "[]\n"
     ]
    }
   ],
   "source": [
    "dinner = [\"Cleopatra\", \"Elizabeth I\", \"Joan of Arc\"]\n",
    "invitation = \" would you like joining me for dinner?\"\n",
    "print(dinner[0] + invitation)\n",
    "print(dinner[1] + invitation)\n",
    "print(dinner[2] + invitation)\n",
    "\n",
    "print(\"I found a bigger table!\")\n",
    "\n",
    "dinner.insert(0, \"Marylin Monroe\")\n",
    "dinner.append(\"Aphrodite\")\n",
    "\n",
    "print(dinner[0] + invitation)\n",
    "print(dinner[1] + invitation)\n",
    "print(dinner[2] + invitation)\n",
    "print(dinner[3] + invitation)\n",
    "print(dinner[4] + invitation)\n",
    "\n",
    "print(\"Oh no, I am sorry but I can invite only two persons!\")\n",
    "\n",
    "print(\"I am sorry \" + dinner[4] + \" but I cannot invite you anymore\")\n",
    "dinner.pop()\n",
    "\n",
    "print(\"I am sorry \" + dinner[3] + \" but I cannot invite you anymore\")\n",
    "dinner.pop()\n",
    "\n",
    "print(\"I am sorry \" + dinner[2] + \" but I cannot invite you anymore\")\n",
    "dinner.pop()\n",
    "\n",
    "\n",
    "invite = \", you are still invited!\"\n",
    "print(dinner[0] + invite)\n",
    "print(dinner[1] + invite)\n",
    "\n",
    "del dinner[0]\n",
    "del dinner[0]\n",
    "print(dinner)"
   ]
  },
  {
   "cell_type": "code",
   "execution_count": null,
   "id": "36f4801c",
   "metadata": {},
   "outputs": [],
   "source": []
  }
 ],
 "metadata": {
  "kernelspec": {
   "display_name": "Python 3 (ipykernel)",
   "language": "python",
   "name": "python3"
  },
  "language_info": {
   "codemirror_mode": {
    "name": "ipython",
    "version": 3
   },
   "file_extension": ".py",
   "mimetype": "text/x-python",
   "name": "python",
   "nbconvert_exporter": "python",
   "pygments_lexer": "ipython3",
   "version": "3.11.4"
  }
 },
 "nbformat": 4,
 "nbformat_minor": 5
}
