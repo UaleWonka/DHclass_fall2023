{
 "cells": [
  {
   "cell_type": "markdown",
   "id": "2ea31a52",
   "metadata": {},
   "source": [
    "# Chapter 2"
   ]
  },
  {
   "cell_type": "markdown",
   "id": "f70b4ddd",
   "metadata": {},
   "source": [
    "## 2.1"
   ]
  },
  {
   "cell_type": "code",
   "execution_count": 1,
   "id": "c48b7ca6",
   "metadata": {},
   "outputs": [
    {
     "name": "stdout",
     "output_type": "stream",
     "text": [
      "It's raining\n"
     ]
    }
   ],
   "source": [
    "#printing message\n",
    "message = \"It's raining\"\n",
    "print(message)"
   ]
  },
  {
   "cell_type": "markdown",
   "id": "b3238031",
   "metadata": {},
   "source": [
    "## 2.2"
   ]
  },
  {
   "cell_type": "code",
   "execution_count": 2,
   "id": "5dccca47",
   "metadata": {},
   "outputs": [
    {
     "name": "stdout",
     "output_type": "stream",
     "text": [
      "The sun is shining\n"
     ]
    }
   ],
   "source": [
    "message_2 = \"The sun is shining\"\n",
    "print(message_2)"
   ]
  },
  {
   "cell_type": "code",
   "execution_count": 4,
   "id": "f3da964d",
   "metadata": {},
   "outputs": [
    {
     "name": "stdout",
     "output_type": "stream",
     "text": [
      "The sun does not shine anymore\n"
     ]
    }
   ],
   "source": [
    "message_2 = \"The sun does not shine anymore\"\n",
    "print(message_2)"
   ]
  },
  {
   "cell_type": "markdown",
   "id": "c7a6d59a",
   "metadata": {},
   "source": [
    "## 2.3"
   ]
  },
  {
   "cell_type": "code",
   "execution_count": 5,
   "id": "4017b665",
   "metadata": {},
   "outputs": [
    {
     "name": "stdout",
     "output_type": "stream",
     "text": [
      "ValeriaDo you want to go outside?\n"
     ]
    }
   ],
   "source": [
    "name = \"Valeria\"\n",
    "message_3 = \"Do you want to go outside?\"\n",
    "print(name+message_3)"
   ]
  },
  {
   "cell_type": "code",
   "execution_count": 6,
   "id": "8b012d70",
   "metadata": {},
   "outputs": [
    {
     "name": "stdout",
     "output_type": "stream",
     "text": [
      "Valeria Do you want to go outside?\n"
     ]
    }
   ],
   "source": [
    "name = \"Valeria \"\n",
    "print(name + message_3)"
   ]
  },
  {
   "cell_type": "markdown",
   "id": "d6c7a840",
   "metadata": {},
   "source": [
    "## 2.4"
   ]
  },
  {
   "cell_type": "code",
   "execution_count": 7,
   "id": "4354b6c7",
   "metadata": {},
   "outputs": [
    {
     "name": "stdout",
     "output_type": "stream",
     "text": [
      "alessandro\n"
     ]
    }
   ],
   "source": [
    "name_2 = \"alessandro\"\n",
    "print(name_2.lower())"
   ]
  },
  {
   "cell_type": "code",
   "execution_count": 8,
   "id": "919416dc",
   "metadata": {},
   "outputs": [
    {
     "name": "stdout",
     "output_type": "stream",
     "text": [
      "ALESSANDRO\n"
     ]
    }
   ],
   "source": [
    "print(name_2.upper())"
   ]
  },
  {
   "cell_type": "code",
   "execution_count": 9,
   "id": "69d1ae6b",
   "metadata": {},
   "outputs": [
    {
     "name": "stdout",
     "output_type": "stream",
     "text": [
      "Alessandro\n"
     ]
    }
   ],
   "source": [
    "print(name_2.title())"
   ]
  },
  {
   "cell_type": "markdown",
   "id": "2655be82",
   "metadata": {},
   "source": [
    "## 2.5"
   ]
  },
  {
   "cell_type": "code",
   "execution_count": 10,
   "id": "2db6c229",
   "metadata": {},
   "outputs": [
    {
     "name": "stdout",
     "output_type": "stream",
     "text": [
      "Caesar once said 'Veni, vidi, vici'.\n"
     ]
    }
   ],
   "source": [
    "quote = \"Caesar once said 'Veni, vidi, vici'.\"\n",
    "print(quote)"
   ]
  },
  {
   "cell_type": "markdown",
   "id": "4aec8f69",
   "metadata": {},
   "source": [
    "## 2.6"
   ]
  },
  {
   "cell_type": "code",
   "execution_count": 11,
   "id": "eaede566",
   "metadata": {},
   "outputs": [],
   "source": [
    "famous_person = \"Julius Caesar \"\n",
    "quote_2 = famous_person + 'once said \"Veni, vidi, vici\".'"
   ]
  },
  {
   "cell_type": "code",
   "execution_count": 12,
   "id": "057c1cc6",
   "metadata": {},
   "outputs": [
    {
     "name": "stdout",
     "output_type": "stream",
     "text": [
      "Julius Caesar once said \"Veni, vidi, vici\".\n"
     ]
    }
   ],
   "source": [
    "print(quote_2)"
   ]
  },
  {
   "cell_type": "markdown",
   "id": "f6bdd3d1",
   "metadata": {},
   "source": [
    "## 2.7"
   ]
  },
  {
   "cell_type": "code",
   "execution_count": 15,
   "id": "6506cc01",
   "metadata": {},
   "outputs": [
    {
     "name": "stdout",
     "output_type": "stream",
     "text": [
      "\tValeria\tBoano\n",
      "\tStudent\n"
     ]
    }
   ],
   "source": [
    "person = \"\\tValeria\\tBoano\\n\\tStudent\"\n",
    "print(person)"
   ]
  },
  {
   "cell_type": "code",
   "execution_count": 16,
   "id": "71743496",
   "metadata": {},
   "outputs": [
    {
     "name": "stdout",
     "output_type": "stream",
     "text": [
      "\tValeria\tBoano\n",
      "\tStudent\n"
     ]
    }
   ],
   "source": [
    "person_2 = person.rstrip()\n",
    "print(person_2)"
   ]
  },
  {
   "cell_type": "code",
   "execution_count": 17,
   "id": "bb61c2a2",
   "metadata": {},
   "outputs": [
    {
     "name": "stdout",
     "output_type": "stream",
     "text": [
      "Valeria\tBoano\n",
      "\tStudent\n"
     ]
    }
   ],
   "source": [
    "person_3 = person.lstrip()\n",
    "print(person_3)"
   ]
  },
  {
   "cell_type": "code",
   "execution_count": 18,
   "id": "5a287bf5",
   "metadata": {},
   "outputs": [],
   "source": [
    "person_4 = person.strip()"
   ]
  },
  {
   "cell_type": "code",
   "execution_count": 19,
   "id": "f8f60bc1",
   "metadata": {},
   "outputs": [
    {
     "name": "stdout",
     "output_type": "stream",
     "text": [
      "Valeria\tBoano\n",
      "\tStudent\n"
     ]
    }
   ],
   "source": [
    "print(person_4)"
   ]
  },
  {
   "cell_type": "code",
   "execution_count": null,
   "id": "cf116c88",
   "metadata": {},
   "outputs": [],
   "source": []
  }
 ],
 "metadata": {
  "kernelspec": {
   "display_name": "Python 3 (ipykernel)",
   "language": "python",
   "name": "python3"
  },
  "language_info": {
   "codemirror_mode": {
    "name": "ipython",
    "version": 3
   },
   "file_extension": ".py",
   "mimetype": "text/x-python",
   "name": "python",
   "nbconvert_exporter": "python",
   "pygments_lexer": "ipython3",
   "version": "3.11.4"
  }
 },
 "nbformat": 4,
 "nbformat_minor": 5
}
