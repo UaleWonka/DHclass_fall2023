{
 "cells": [
  {
   "cell_type": "markdown",
   "id": "f019f74a",
   "metadata": {},
   "source": [
    "## Chapter 8"
   ]
  },
  {
   "cell_type": "markdown",
   "id": "79cc53f0",
   "metadata": {},
   "source": [
    "## 8.2"
   ]
  },
  {
   "cell_type": "code",
   "execution_count": 1,
   "id": "935ebf47",
   "metadata": {},
   "outputs": [],
   "source": [
    "def favorite_book(title):\n",
    "    print(\"one of my favorite book is \" + title)"
   ]
  },
  {
   "cell_type": "code",
   "execution_count": 2,
   "id": "bc51aa5e",
   "metadata": {},
   "outputs": [
    {
     "name": "stdout",
     "output_type": "stream",
     "text": [
      "one of my favorite book is L'amica geniale\n"
     ]
    }
   ],
   "source": [
    "favorite_book(\"L'amica geniale\")"
   ]
  },
  {
   "cell_type": "markdown",
   "id": "b264eb8a",
   "metadata": {},
   "source": [
    "## 8.3"
   ]
  },
  {
   "cell_type": "code",
   "execution_count": 5,
   "id": "00a254af",
   "metadata": {},
   "outputs": [],
   "source": [
    "def make_shirt(size, message):\n",
    "    print(\"The size of the shirt is \" + size + \" and its message is \" + message)"
   ]
  },
  {
   "cell_type": "code",
   "execution_count": 6,
   "id": "58d70fd2",
   "metadata": {},
   "outputs": [
    {
     "name": "stdout",
     "output_type": "stream",
     "text": [
      "The size of the shirt is S and its message is Ciao\n",
      "The size of the shirt is S and its message is ciao\n"
     ]
    }
   ],
   "source": [
    "make_shirt(\"S\", \"Ciao\")\n",
    "make_shirt(message=\"ciao\", size=\"S\")"
   ]
  },
  {
   "cell_type": "markdown",
   "id": "e0f8db52",
   "metadata": {},
   "source": [
    "## 8.5"
   ]
  },
  {
   "cell_type": "code",
   "execution_count": 8,
   "id": "6b874edd",
   "metadata": {},
   "outputs": [],
   "source": [
    "def describe_city(city, country=\"Italy\"):\n",
    "    print(city + \" is in \" + country)"
   ]
  },
  {
   "cell_type": "code",
   "execution_count": 9,
   "id": "68b76b6b",
   "metadata": {},
   "outputs": [
    {
     "ename": "NameError",
     "evalue": "name 'Milano' is not defined",
     "output_type": "error",
     "traceback": [
      "\u001b[1;31m---------------------------------------------------------------------------\u001b[0m",
      "\u001b[1;31mNameError\u001b[0m                                 Traceback (most recent call last)",
      "Cell \u001b[1;32mIn[9], line 1\u001b[0m\n\u001b[1;32m----> 1\u001b[0m describe_city(Milano)\n",
      "\u001b[1;31mNameError\u001b[0m: name 'Milano' is not defined"
     ]
    }
   ],
   "source": [
    "describe_city(Milano)"
   ]
  },
  {
   "cell_type": "code",
   "execution_count": 10,
   "id": "6431b694",
   "metadata": {},
   "outputs": [
    {
     "name": "stdout",
     "output_type": "stream",
     "text": [
      "Milano is in Italy\n"
     ]
    }
   ],
   "source": [
    "describe_city(\"Milano\")"
   ]
  },
  {
   "cell_type": "code",
   "execution_count": 11,
   "id": "9b058808",
   "metadata": {},
   "outputs": [
    {
     "name": "stdout",
     "output_type": "stream",
     "text": [
      "Boston is in USA\n"
     ]
    }
   ],
   "source": [
    "describe_city(\"Boston\", \"USA\")"
   ]
  },
  {
   "cell_type": "markdown",
   "id": "cb37a25c",
   "metadata": {},
   "source": [
    "## 8.6"
   ]
  },
  {
   "cell_type": "code",
   "execution_count": 12,
   "id": "bd1ee6d7",
   "metadata": {},
   "outputs": [],
   "source": [
    "def city_country(city, country):\n",
    "    return(city + \", \" + country)"
   ]
  },
  {
   "cell_type": "code",
   "execution_count": 13,
   "id": "9474bec0",
   "metadata": {},
   "outputs": [
    {
     "data": {
      "text/plain": [
       "'Milano, Italy'"
      ]
     },
     "execution_count": 13,
     "metadata": {},
     "output_type": "execute_result"
    }
   ],
   "source": [
    "city_country(\"Milano\", \"Italy\")"
   ]
  },
  {
   "cell_type": "code",
   "execution_count": 14,
   "id": "86ebfd36",
   "metadata": {},
   "outputs": [
    {
     "name": "stdout",
     "output_type": "stream",
     "text": [
      "Milano, Italy\n"
     ]
    }
   ],
   "source": [
    "print(city_country(\"Milano\", \"Italy\"))"
   ]
  },
  {
   "cell_type": "markdown",
   "id": "a1ea0ba1",
   "metadata": {},
   "source": [
    "## 8.7"
   ]
  },
  {
   "cell_type": "code",
   "execution_count": 15,
   "id": "bdfe18a6",
   "metadata": {},
   "outputs": [],
   "source": [
    "music_album = {}"
   ]
  },
  {
   "cell_type": "code",
   "execution_count": 20,
   "id": "03a53608",
   "metadata": {},
   "outputs": [],
   "source": [
    "def make_album():\n",
    "    music_album[\"artist_name\"] = \"Marco Mengoni\"\n",
    "    music_album[\"album_title\"] = \"Pronto a correre\"\n",
    "    return(music_album)"
   ]
  },
  {
   "cell_type": "code",
   "execution_count": 21,
   "id": "7d0f8b25",
   "metadata": {},
   "outputs": [
    {
     "name": "stdout",
     "output_type": "stream",
     "text": [
      "{'artist_name': 'Marco Mengoni', 'album_title': 'Pronto a correre'}\n"
     ]
    }
   ],
   "source": [
    "print(make_album())"
   ]
  },
  {
   "cell_type": "code",
   "execution_count": 22,
   "id": "c2b46c59",
   "metadata": {},
   "outputs": [],
   "source": [
    "new_music_albuma = {}"
   ]
  },
  {
   "cell_type": "code",
   "execution_count": 25,
   "id": "3118e2b6",
   "metadata": {},
   "outputs": [],
   "source": [
    "def make_album_2(artist, album):\n",
    "    new_music_albuma[\"artist_name\"] = artist\n",
    "    new_music_albuma[\"album_title\"] = album\n",
    "    return(new_music_albuma)"
   ]
  },
  {
   "cell_type": "code",
   "execution_count": 26,
   "id": "a92b225d",
   "metadata": {},
   "outputs": [
    {
     "data": {
      "text/plain": [
       "{'artist_name': 'Marco Mengoni', 'album_title': 'Pronto a correre'}"
      ]
     },
     "execution_count": 26,
     "metadata": {},
     "output_type": "execute_result"
    }
   ],
   "source": [
    "make_album_2(\"Marco Mengoni\", \"Pronto a correre\")"
   ]
  },
  {
   "cell_type": "code",
   "execution_count": 27,
   "id": "a814af2d",
   "metadata": {},
   "outputs": [
    {
     "data": {
      "text/plain": [
       "{'artist_name': 'Artista', 'album_title': 'Album'}"
      ]
     },
     "execution_count": 27,
     "metadata": {},
     "output_type": "execute_result"
    }
   ],
   "source": [
    "make_album_2(\"Artista\", \"Album\")"
   ]
  },
  {
   "cell_type": "code",
   "execution_count": null,
   "id": "0458fd21",
   "metadata": {},
   "outputs": [],
   "source": []
  }
 ],
 "metadata": {
  "kernelspec": {
   "display_name": "Python 3 (ipykernel)",
   "language": "python",
   "name": "python3"
  },
  "language_info": {
   "codemirror_mode": {
    "name": "ipython",
    "version": 3
   },
   "file_extension": ".py",
   "mimetype": "text/x-python",
   "name": "python",
   "nbconvert_exporter": "python",
   "pygments_lexer": "ipython3",
   "version": "3.11.4"
  }
 },
 "nbformat": 4,
 "nbformat_minor": 5
}
