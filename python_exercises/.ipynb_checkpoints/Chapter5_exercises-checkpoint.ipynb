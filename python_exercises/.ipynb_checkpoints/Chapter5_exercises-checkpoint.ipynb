{
 "cells": [
  {
   "cell_type": "markdown",
   "id": "74924199",
   "metadata": {},
   "source": [
    "## Chapter 5"
   ]
  },
  {
   "cell_type": "markdown",
   "id": "3afe90ac",
   "metadata": {},
   "source": [
    "## 5.1"
   ]
  },
  {
   "cell_type": "code",
   "execution_count": 1,
   "id": "dfb5ea69",
   "metadata": {},
   "outputs": [
    {
     "name": "stdout",
     "output_type": "stream",
     "text": [
      "Is animal == monkey? I predict True\n"
     ]
    }
   ],
   "source": [
    "animal = \"monkey\"\n",
    "\n",
    "print(\"Is animal == monkey? I predict True\")"
   ]
  },
  {
   "cell_type": "code",
   "execution_count": 2,
   "id": "5c5a87b9",
   "metadata": {},
   "outputs": [
    {
     "ename": "TypeError",
     "evalue": "'animal' is an invalid keyword argument for print()",
     "output_type": "error",
     "traceback": [
      "\u001b[1;31m---------------------------------------------------------------------------\u001b[0m",
      "\u001b[1;31mTypeError\u001b[0m                                 Traceback (most recent call last)",
      "Cell \u001b[1;32mIn[2], line 1\u001b[0m\n\u001b[1;32m----> 1\u001b[0m \u001b[38;5;28mprint\u001b[39m(animal\u001b[38;5;241m=\u001b[39m\u001b[38;5;124m\"\u001b[39m\u001b[38;5;124mmonkey\u001b[39m\u001b[38;5;124m\"\u001b[39m)\n",
      "\u001b[1;31mTypeError\u001b[0m: 'animal' is an invalid keyword argument for print()"
     ]
    }
   ],
   "source": [
    "print(animal=\"monkey\")"
   ]
  },
  {
   "cell_type": "code",
   "execution_count": 3,
   "id": "619c9f47",
   "metadata": {},
   "outputs": [
    {
     "name": "stdout",
     "output_type": "stream",
     "text": [
      "True\n"
     ]
    }
   ],
   "source": [
    "print(animal == \"monkey\")"
   ]
  },
  {
   "cell_type": "code",
   "execution_count": 4,
   "id": "7606c982",
   "metadata": {},
   "outputs": [
    {
     "name": "stdout",
     "output_type": "stream",
     "text": [
      "Is animal == bird? I predict false\n",
      "False\n"
     ]
    }
   ],
   "source": [
    "print(\"Is animal == bird? I predict false\")\n",
    "print(animal == \"bird\")"
   ]
  },
  {
   "cell_type": "code",
   "execution_count": 5,
   "id": "48ca49d3",
   "metadata": {},
   "outputs": [
    {
     "name": "stdout",
     "output_type": "stream",
     "text": [
      "Is food == pizza? I predict True\n",
      "True\n",
      "Is time == pizza? I predict False\n",
      "False\n"
     ]
    }
   ],
   "source": [
    "time = \"noon\"\n",
    "city = \"Boston\"\n",
    "weather = \"sunny\"\n",
    "food = \"pizza\"\n",
    "\n",
    "print(\"Is food == pizza? I predict True\")\n",
    "print(food == \"pizza\")\n",
    "\n",
    "print(\"Is time == pizza? I predict False\")\n",
    "print(time == \"pizza\")"
   ]
  },
  {
   "cell_type": "code",
   "execution_count": 6,
   "id": "5feaabdb",
   "metadata": {},
   "outputs": [
    {
     "name": "stdout",
     "output_type": "stream",
     "text": [
      "Is time == noon? I predict True\n",
      "True\n",
      "Is time == Boston? I predict False\n",
      "False\n"
     ]
    }
   ],
   "source": [
    "print(\"Is time == noon? I predict True\")\n",
    "print(time == \"noon\")\n",
    "\n",
    "print(\"Is time == Boston? I predict False\")\n",
    "print(time == \"Boston\")"
   ]
  },
  {
   "cell_type": "code",
   "execution_count": 7,
   "id": "bf879b31",
   "metadata": {},
   "outputs": [
    {
     "name": "stdout",
     "output_type": "stream",
     "text": [
      "Is city == Milan? I predict false\n",
      "False\n",
      "Is city == Boston? I predict True\n",
      "True\n"
     ]
    }
   ],
   "source": [
    "print(\"Is city == Milan? I predict false\")\n",
    "print(city == \"MIlan\")\n",
    "\n",
    "print(\"Is city == Boston? I predict True\")\n",
    "print(city==\"Boston\")"
   ]
  },
  {
   "cell_type": "code",
   "execution_count": 8,
   "id": "9c7c7faf",
   "metadata": {},
   "outputs": [
    {
     "name": "stdout",
     "output_type": "stream",
     "text": [
      "Is weather == sunny? I predict True\n",
      "True\n",
      "Is weather == rainy? I predict False\n",
      "False\n"
     ]
    }
   ],
   "source": [
    "print(\"Is weather == sunny? I predict True\")\n",
    "print(weather == \"sunny\")\n",
    "\n",
    "print(\"Is weather == rainy? I predict False\")\n",
    "\n",
    "print(weather == \"rainy\")"
   ]
  },
  {
   "cell_type": "markdown",
   "id": "e144375a",
   "metadata": {},
   "source": [
    "## 5.2"
   ]
  },
  {
   "cell_type": "code",
   "execution_count": 9,
   "id": "ca1ba1a7",
   "metadata": {},
   "outputs": [
    {
     "name": "stdout",
     "output_type": "stream",
     "text": [
      "yes\n"
     ]
    }
   ],
   "source": [
    "number = 8\n",
    "\n",
    "if number > 6:\n",
    "    print(\"yes\")"
   ]
  },
  {
   "cell_type": "code",
   "execution_count": 10,
   "id": "d6737eee",
   "metadata": {
    "scrolled": false
   },
   "outputs": [
    {
     "name": "stdout",
     "output_type": "stream",
     "text": [
      "12\n"
     ]
    }
   ],
   "source": [
    "lista = [6, 9, 3, 11]\n",
    "\n",
    "if 6 in lista:\n",
    "    print(6+6)"
   ]
  },
  {
   "cell_type": "code",
   "execution_count": 12,
   "id": "2a4ff0aa",
   "metadata": {},
   "outputs": [
    {
     "name": "stdout",
     "output_type": "stream",
     "text": [
      "0\n"
     ]
    }
   ],
   "source": [
    "if 5 in lista and 6 in lista:\n",
    "    print(5+6)\n",
    "else:\n",
    "    print(0)"
   ]
  },
  {
   "cell_type": "code",
   "execution_count": 13,
   "id": "cf8d9527",
   "metadata": {},
   "outputs": [
    {
     "name": "stdout",
     "output_type": "stream",
     "text": [
      "0\n"
     ]
    }
   ],
   "source": [
    "if 6 and 5 in lista:\n",
    "    print(5+6)\n",
    "else:\n",
    "    print(0)"
   ]
  },
  {
   "cell_type": "markdown",
   "id": "6a2009fc",
   "metadata": {},
   "source": [
    "## 5.6"
   ]
  },
  {
   "cell_type": "code",
   "execution_count": 14,
   "id": "ced44633",
   "metadata": {},
   "outputs": [
    {
     "ename": "SyntaxError",
     "evalue": "invalid syntax (1909140732.py, line 5)",
     "output_type": "error",
     "traceback": [
      "\u001b[1;36m  Cell \u001b[1;32mIn[14], line 5\u001b[1;36m\u001b[0m\n\u001b[1;33m    elif age >= 2 and < 4:\u001b[0m\n\u001b[1;37m                      ^\u001b[0m\n\u001b[1;31mSyntaxError\u001b[0m\u001b[1;31m:\u001b[0m invalid syntax\n"
     ]
    }
   ],
   "source": [
    "age = 44\n",
    "\n",
    "if age < 2:\n",
    "    print(\"the person is a baby\")\n",
    "elif age >= 2 and < 4:\n",
    "    print(\"the person is a toddler\")\n",
    "elif age >= 4 and < 13:\n",
    "    print(\"the person is a kid\")\n",
    "elif age >=13 and < 20:\n",
    "    print(\"the person is a teenager\")"
   ]
  },
  {
   "cell_type": "code",
   "execution_count": 16,
   "id": "4abd9910",
   "metadata": {},
   "outputs": [
    {
     "name": "stdout",
     "output_type": "stream",
     "text": [
      "the person is a teenager\n"
     ]
    }
   ],
   "source": [
    "age = 13\n",
    "if age < 2:\n",
    "    print(\"the person is a baby\")\n",
    "elif age >= 2 and age < 4:\n",
    "    print(\"the person is a toddler\")\n",
    "elif age >= 4 and age < 13:\n",
    "    print(\"the person is a kid\")\n",
    "elif age >=13 and age < 20:\n",
    "    print(\"the person is a teenager\")\n",
    "elif age >= 20 and age < 65:\n",
    "    print(\"the person is an adult\")\n",
    "elif age >= 65:\n",
    "    print(\"the person is an elder\")"
   ]
  },
  {
   "cell_type": "markdown",
   "id": "04a92da5",
   "metadata": {},
   "source": [
    "## 5.7"
   ]
  },
  {
   "cell_type": "code",
   "execution_count": 17,
   "id": "d2110075",
   "metadata": {},
   "outputs": [
    {
     "name": "stdout",
     "output_type": "stream",
     "text": [
      "You really love grapes\n"
     ]
    }
   ],
   "source": [
    "fav_fruits = [\"grapes\", \"apricots\", \"blueberries\", \"mandarins\"]\n",
    "\n",
    "if \"grapes\" in fav_fruits:\n",
    "    print(\"You really love grapes\")"
   ]
  },
  {
   "cell_type": "code",
   "execution_count": 18,
   "id": "8ca17f4f",
   "metadata": {},
   "outputs": [],
   "source": [
    "if \"apple\" in fav_fruits:\n",
    "    print(\"Apple\")"
   ]
  },
  {
   "cell_type": "code",
   "execution_count": 19,
   "id": "24b2d56c",
   "metadata": {},
   "outputs": [
    {
     "name": "stdout",
     "output_type": "stream",
     "text": [
      "you don't like apples\n"
     ]
    }
   ],
   "source": [
    "if \"apple\" in fav_fruits:\n",
    "    print(\"Apple\")\n",
    "else:\n",
    "    print(\"you don't like apples\")"
   ]
  },
  {
   "cell_type": "code",
   "execution_count": 20,
   "id": "a838c15b",
   "metadata": {},
   "outputs": [
    {
     "name": "stdout",
     "output_type": "stream",
     "text": [
      "Loving apricots\n"
     ]
    }
   ],
   "source": [
    "if \"apricots\" in fav_fruits:\n",
    "    print(\"Loving apricots\")"
   ]
  },
  {
   "cell_type": "code",
   "execution_count": 21,
   "id": "852f8e5b",
   "metadata": {},
   "outputs": [
    {
     "name": "stdout",
     "output_type": "stream",
     "text": [
      "No bananas\n"
     ]
    }
   ],
   "source": [
    "if \"bananas\" in fav_fruits:\n",
    "    print(\"Bananas\")\n",
    "else: \n",
    "    print(\"No bananas\")"
   ]
  },
  {
   "cell_type": "code",
   "execution_count": 22,
   "id": "072d4a6f",
   "metadata": {},
   "outputs": [
    {
     "name": "stdout",
     "output_type": "stream",
     "text": [
      "Loving mandarins\n"
     ]
    }
   ],
   "source": [
    "if \"mandarins\" in fav_fruits:\n",
    "    print(\"Loving mandarins\")"
   ]
  },
  {
   "cell_type": "markdown",
   "id": "d0db2ad5",
   "metadata": {},
   "source": [
    "## 5.8"
   ]
  },
  {
   "cell_type": "code",
   "execution_count": 23,
   "id": "55755799",
   "metadata": {},
   "outputs": [
    {
     "name": "stdout",
     "output_type": "stream",
     "text": [
      "Hello admin, would you like to see a status report?\n",
      "uale thank you for logging in again!\n",
      "grigio thank you for logging in again!\n",
      "irne thank you for logging in again!\n",
      "someone thank you for logging in again!\n"
     ]
    }
   ],
   "source": [
    "names = [\"admin\", \"uale\", \"grigio\", \"irne\", \"someone\"]\n",
    "\n",
    "for name in names:\n",
    "    if name == \"admin\":\n",
    "        print(\"Hello admin, would you like to see a status report?\")\n",
    "    else:\n",
    "        print(name + \" thank you for logging in again!\")"
   ]
  },
  {
   "cell_type": "markdown",
   "id": "ce4c25f3",
   "metadata": {},
   "source": [
    "## 5.9"
   ]
  },
  {
   "cell_type": "code",
   "execution_count": 28,
   "id": "a129e186",
   "metadata": {},
   "outputs": [
    {
     "name": "stdout",
     "output_type": "stream",
     "text": [
      "We need to find some users\n"
     ]
    }
   ],
   "source": [
    "names = []\n",
    "\n",
    "#if not names:\n",
    "    #print(\"We need to find some users\")\n",
    "\n",
    "\n",
    "if names:\n",
    "    for name in names:\n",
    "        if name == \"admin\":\n",
    "            print(\"Hello admin, would you like to see a status report?\")\n",
    "        else:\n",
    "            print(name + \" thank you for logging in again!\")\n",
    "else:\n",
    "    print(\"We need to find some users\")\n",
    "        "
   ]
  },
  {
   "cell_type": "markdown",
   "id": "98e6777f",
   "metadata": {},
   "source": [
    "## 5.10"
   ]
  },
  {
   "cell_type": "code",
   "execution_count": 29,
   "id": "137cf5c8",
   "metadata": {},
   "outputs": [],
   "source": [
    "current_users = [\"Vale\", \"Ale\", \"Ire\", \"Luca\", \"Pippo\"]"
   ]
  },
  {
   "cell_type": "code",
   "execution_count": 30,
   "id": "70a2b590",
   "metadata": {},
   "outputs": [],
   "source": [
    "new_users = [\"Ire\", \"Zanna\", \"Ilaria\", \"Ale\", \"Ari\"]"
   ]
  },
  {
   "cell_type": "code",
   "execution_count": 32,
   "id": "6fd4b1cb",
   "metadata": {},
   "outputs": [
    {
     "name": "stdout",
     "output_type": "stream",
     "text": [
      "You need another user\n",
      "Your user is available\n",
      "Your user is available\n",
      "You need another user\n",
      "Your user is available\n"
     ]
    }
   ],
   "source": [
    "for user in new_users:\n",
    "    if user in current_users:\n",
    "        print(\"You need another user\")\n",
    "    else: \n",
    "        print(\"Your user is available\")"
   ]
  },
  {
   "cell_type": "code",
   "execution_count": null,
   "id": "ef871b56",
   "metadata": {},
   "outputs": [],
   "source": []
  }
 ],
 "metadata": {
  "kernelspec": {
   "display_name": "Python 3 (ipykernel)",
   "language": "python",
   "name": "python3"
  },
  "language_info": {
   "codemirror_mode": {
    "name": "ipython",
    "version": 3
   },
   "file_extension": ".py",
   "mimetype": "text/x-python",
   "name": "python",
   "nbconvert_exporter": "python",
   "pygments_lexer": "ipython3",
   "version": "3.11.4"
  }
 },
 "nbformat": 4,
 "nbformat_minor": 5
}
