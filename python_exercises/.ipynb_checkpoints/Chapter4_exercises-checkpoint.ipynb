{
 "cells": [
  {
   "cell_type": "markdown",
   "id": "5d7ec795",
   "metadata": {},
   "source": [
    "# Chapter 4"
   ]
  },
  {
   "cell_type": "markdown",
   "id": "5b4adfa8",
   "metadata": {},
   "source": [
    "## 4.1"
   ]
  },
  {
   "cell_type": "code",
   "execution_count": 1,
   "id": "cdb7ba27",
   "metadata": {},
   "outputs": [
    {
     "name": "stdout",
     "output_type": "stream",
     "text": [
      "Margherita\n",
      "Bufalina\n",
      "Napoli\n"
     ]
    }
   ],
   "source": [
    "pizzas = [\"Margherita\", \"Bufalina\", \"Napoli\"]\n",
    "\n",
    "for pizza in pizzas:\n",
    "    print(pizza)"
   ]
  },
  {
   "cell_type": "code",
   "execution_count": 2,
   "id": "171ff278",
   "metadata": {},
   "outputs": [
    {
     "name": "stdout",
     "output_type": "stream",
     "text": [
      "I like Margherita\n",
      "I like Bufalina\n",
      "I like Napoli\n"
     ]
    }
   ],
   "source": [
    "message = \"I like \"\n",
    "\n",
    "for pizza in pizzas:\n",
    "    print(message + pizza)"
   ]
  },
  {
   "cell_type": "code",
   "execution_count": 3,
   "id": "045afda5",
   "metadata": {},
   "outputs": [
    {
     "name": "stdout",
     "output_type": "stream",
     "text": [
      "I like pizza Margherita\n",
      "I like pizza Bufalina\n",
      "I like pizza Napoli\n",
      "I really love pizza!\n"
     ]
    }
   ],
   "source": [
    "pizzas = [\"pizza Margherita\", \"pizza Bufalina\", \"pizza Napoli\"]\n",
    "\n",
    "for pizza in pizzas:\n",
    "    print(message + pizza)\n",
    "    \n",
    "print(\"I really love pizza!\")"
   ]
  },
  {
   "cell_type": "markdown",
   "id": "1dbb9a01",
   "metadata": {},
   "source": [
    "## 4.2"
   ]
  },
  {
   "cell_type": "code",
   "execution_count": 4,
   "id": "31a778f1",
   "metadata": {},
   "outputs": [
    {
     "name": "stdout",
     "output_type": "stream",
     "text": [
      "cat\n",
      "panther\n",
      "jaguar\n"
     ]
    }
   ],
   "source": [
    "animals = [\"cat\", \"panther\", \"jaguar\"]\n",
    "\n",
    "for animal in animals:\n",
    "    print(animal)\n",
    "    "
   ]
  },
  {
   "cell_type": "code",
   "execution_count": 5,
   "id": "81e499c8",
   "metadata": {},
   "outputs": [
    {
     "name": "stdout",
     "output_type": "stream",
     "text": [
      "cat is an animal\n",
      "panther is an animal\n",
      "jaguar is an animal\n"
     ]
    }
   ],
   "source": [
    "for animal in animals:\n",
    "    print(animal + \" is an animal\")"
   ]
  },
  {
   "cell_type": "code",
   "execution_count": 7,
   "id": "fb95ef07",
   "metadata": {},
   "outputs": [
    {
     "name": "stdout",
     "output_type": "stream",
     "text": [
      "cat is a feline\n",
      "panther is a feline\n",
      "jaguar is a feline\n",
      "All these animals are feline\n"
     ]
    }
   ],
   "source": [
    "for animal in animals:\n",
    "    print(animal + \" is a feline\")\n",
    "    \n",
    "print(\"All these animals are feline\")"
   ]
  },
  {
   "cell_type": "markdown",
   "id": "84358c41",
   "metadata": {},
   "source": [
    "## 4.3"
   ]
  },
  {
   "cell_type": "code",
   "execution_count": 11,
   "id": "880ea9ba",
   "metadata": {},
   "outputs": [
    {
     "name": "stdout",
     "output_type": "stream",
     "text": [
      "0\n",
      "1\n",
      "2\n",
      "3\n",
      "4\n",
      "5\n",
      "6\n",
      "7\n",
      "8\n",
      "9\n",
      "10\n",
      "11\n",
      "12\n",
      "13\n",
      "14\n",
      "15\n",
      "16\n",
      "17\n",
      "18\n",
      "19\n",
      "20\n"
     ]
    }
   ],
   "source": [
    "for x in range(0,21):\n",
    "    print(x)"
   ]
  },
  {
   "cell_type": "markdown",
   "id": "4fc1e7fe",
   "metadata": {},
   "source": [
    "## 4.6"
   ]
  },
  {
   "cell_type": "code",
   "execution_count": 13,
   "id": "aa5e7a7a",
   "metadata": {},
   "outputs": [
    {
     "name": "stdout",
     "output_type": "stream",
     "text": [
      "[1, 3, 5, 7, 9, 11, 13, 15, 17, 19]\n"
     ]
    }
   ],
   "source": [
    "odd_numbers = []\n",
    "for x in range(1, 21, 2):\n",
    "    odd_numbers.append(x)\n",
    "    \n",
    "print(odd_numbers)"
   ]
  },
  {
   "cell_type": "code",
   "execution_count": 14,
   "id": "25c43b76",
   "metadata": {},
   "outputs": [
    {
     "name": "stdout",
     "output_type": "stream",
     "text": [
      "1\n",
      "3\n",
      "5\n",
      "7\n",
      "9\n",
      "11\n",
      "13\n",
      "15\n",
      "17\n",
      "19\n"
     ]
    }
   ],
   "source": [
    "for n in odd_numbers:\n",
    "    print(n)"
   ]
  },
  {
   "cell_type": "markdown",
   "id": "788f26cf",
   "metadata": {},
   "source": [
    "## 4.10"
   ]
  },
  {
   "cell_type": "code",
   "execution_count": 16,
   "id": "08606a56",
   "metadata": {},
   "outputs": [
    {
     "name": "stdout",
     "output_type": "stream",
     "text": [
      "The first three items in the list are: \n",
      "cat\n",
      "panther\n",
      "jaguar\n",
      "Three items from the middle of the list are: \n",
      "Margherita\n",
      "Bufalina\n",
      "Napoli\n",
      "The last three items in the list are: \n",
      "1\n",
      "2\n",
      "3\n"
     ]
    }
   ],
   "source": [
    "elements = [\"cat\", \"panther\", \"jaguar\", \"Margherita\", \"Bufalina\", \"Napoli\", \"1\", \"2\", \"3\" ]\n",
    "animals = elements[0:3]\n",
    "pizzas = elements[3:6]\n",
    "numbers = elements[6:9]\n",
    "\n",
    "print(\"The first three items in the list are: \")\n",
    "for x in animals:\n",
    "    print(x)\n",
    "print(\"Three items from the middle of the list are: \")\n",
    "for p in pizzas:\n",
    "    print(p)\n",
    "print(\"The last three items in the list are: \")\n",
    "for n in numbers:\n",
    "    print(n)"
   ]
  },
  {
   "cell_type": "markdown",
   "id": "8e41d385",
   "metadata": {},
   "source": [
    "## 4.11"
   ]
  },
  {
   "cell_type": "code",
   "execution_count": 17,
   "id": "00bc3d93",
   "metadata": {},
   "outputs": [
    {
     "name": "stdout",
     "output_type": "stream",
     "text": [
      "My favorite pizzas are:\n",
      "Margherita\n",
      "Bufalina\n",
      "Napoli\n",
      "Marinara\n",
      "My friend’s favorite pizzas are:\n",
      "Margherita\n",
      "Bufalina\n",
      "Napoli\n",
      "Prosciutto e Funghi\n"
     ]
    }
   ],
   "source": [
    "pizzas = [\"Margherita\", \"Bufalina\", \"Napoli\"]\n",
    "friend_pizzas = [\"Margherita\", \"Bufalina\", \"Napoli\"]\n",
    "\n",
    "pizzas.append(\"Marinara\")\n",
    "friend_pizzas.append(\"Prosciutto e Funghi\")\n",
    "\n",
    "print(\"My favorite pizzas are:\")\n",
    "for pizza in pizzas:\n",
    "    print(pizza)\n",
    "    \n",
    "print(\"My friend’s favorite pizzas are:\")\n",
    "for f in friend_pizzas:\n",
    "    print(f)"
   ]
  },
  {
   "cell_type": "code",
   "execution_count": null,
   "id": "02928ff2",
   "metadata": {},
   "outputs": [],
   "source": []
  }
 ],
 "metadata": {
  "kernelspec": {
   "display_name": "Python 3 (ipykernel)",
   "language": "python",
   "name": "python3"
  },
  "language_info": {
   "codemirror_mode": {
    "name": "ipython",
    "version": 3
   },
   "file_extension": ".py",
   "mimetype": "text/x-python",
   "name": "python",
   "nbconvert_exporter": "python",
   "pygments_lexer": "ipython3",
   "version": "3.11.4"
  }
 },
 "nbformat": 4,
 "nbformat_minor": 5
}
