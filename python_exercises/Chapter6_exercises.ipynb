{
 "cells": [
  {
   "cell_type": "markdown",
   "id": "bbd8ef35",
   "metadata": {},
   "source": [
    "# Chapter 6"
   ]
  },
  {
   "cell_type": "markdown",
   "id": "d8224493",
   "metadata": {},
   "source": [
    "## 6.1"
   ]
  },
  {
   "cell_type": "code",
   "execution_count": 1,
   "id": "ac1cdce4",
   "metadata": {},
   "outputs": [],
   "source": [
    "Ale = {\"first_name\" : \"Alessandro\", \"last_name\" : \"Varisco\", \"age\" : 24, \"city\": \"Lesmo\"}"
   ]
  },
  {
   "cell_type": "code",
   "execution_count": 2,
   "id": "b17a522a",
   "metadata": {},
   "outputs": [
    {
     "name": "stdout",
     "output_type": "stream",
     "text": [
      "Alessandro\n"
     ]
    }
   ],
   "source": [
    "print(Ale[\"first_name\"])"
   ]
  },
  {
   "cell_type": "code",
   "execution_count": 3,
   "id": "a7d59661",
   "metadata": {},
   "outputs": [
    {
     "name": "stdout",
     "output_type": "stream",
     "text": [
      "Varisco\n",
      "24\n",
      "Lesmo\n"
     ]
    }
   ],
   "source": [
    "print(Ale[\"last_name\"])\n",
    "print(Ale[\"age\"])\n",
    "print(Ale[\"city\"])"
   ]
  },
  {
   "cell_type": "markdown",
   "id": "b9516afd",
   "metadata": {},
   "source": [
    "## 6.2"
   ]
  },
  {
   "cell_type": "code",
   "execution_count": 4,
   "id": "c44193b9",
   "metadata": {},
   "outputs": [],
   "source": [
    "fav_num = {\"Vale\": 20, \"Ale\": 3, \"Ila\": 55}"
   ]
  },
  {
   "cell_type": "code",
   "execution_count": 5,
   "id": "f2264703",
   "metadata": {},
   "outputs": [
    {
     "name": "stdout",
     "output_type": "stream",
     "text": [
      "dict_keys(['Vale', 'Ale', 'Ila'])\n"
     ]
    }
   ],
   "source": [
    "print(fav_num.keys())"
   ]
  },
  {
   "cell_type": "code",
   "execution_count": 6,
   "id": "5653e3a0",
   "metadata": {},
   "outputs": [],
   "source": [
    "keys = fav_num.keys()"
   ]
  },
  {
   "cell_type": "code",
   "execution_count": 7,
   "id": "eef1842b",
   "metadata": {},
   "outputs": [
    {
     "name": "stdout",
     "output_type": "stream",
     "text": [
      "dict_items([('Vale', 20), ('Ale', 3), ('Ila', 55)])\n"
     ]
    }
   ],
   "source": [
    "print(fav_num.items())\n",
    "    "
   ]
  },
  {
   "cell_type": "code",
   "execution_count": 9,
   "id": "92a52d7c",
   "metadata": {},
   "outputs": [
    {
     "name": "stdout",
     "output_type": "stream",
     "text": [
      "Vale 20\n",
      "Ale 3\n",
      "Ila 55\n"
     ]
    }
   ],
   "source": [
    "items = fav_num.items()\n",
    "\n",
    "for k, v in items:\n",
    "    print(k, v)"
   ]
  },
  {
   "cell_type": "markdown",
   "id": "fb819f3e",
   "metadata": {},
   "source": [
    "## 6.3"
   ]
  },
  {
   "cell_type": "code",
   "execution_count": 12,
   "id": "300dfdc5",
   "metadata": {},
   "outputs": [
    {
     "name": "stdout",
     "output_type": "stream",
     "text": [
      "Vale \n",
      " 20\n",
      "Ale \n",
      " 3\n",
      "Ila \n",
      " 55\n"
     ]
    }
   ],
   "source": [
    "items = fav_num.items()\n",
    "\n",
    "for k, v in items:\n",
    "    print(k, \"\\n\", v)"
   ]
  },
  {
   "cell_type": "markdown",
   "id": "1c8dd3ea",
   "metadata": {},
   "source": [
    "## 6.4"
   ]
  },
  {
   "cell_type": "code",
   "execution_count": 13,
   "id": "e7f62b39",
   "metadata": {},
   "outputs": [],
   "source": [
    "fav_num[\"Kikal\"] = 30"
   ]
  },
  {
   "cell_type": "code",
   "execution_count": 14,
   "id": "6f25dea7",
   "metadata": {},
   "outputs": [],
   "source": [
    "fav_num[\"Ari\"] = 10000"
   ]
  },
  {
   "cell_type": "code",
   "execution_count": 15,
   "id": "c4b56b66",
   "metadata": {},
   "outputs": [
    {
     "name": "stdout",
     "output_type": "stream",
     "text": [
      "Vale \n",
      " 20\n",
      "Ale \n",
      " 3\n",
      "Ila \n",
      " 55\n",
      "Kikal \n",
      " 30\n",
      "Ari \n",
      " 10000\n"
     ]
    }
   ],
   "source": [
    "items = fav_num.items()\n",
    "\n",
    "for k, v in items:\n",
    "    print(k, \"\\n\", v)"
   ]
  },
  {
   "cell_type": "markdown",
   "id": "6299b0d5",
   "metadata": {},
   "source": [
    "## 6.5"
   ]
  },
  {
   "cell_type": "code",
   "execution_count": 16,
   "id": "a05810d8",
   "metadata": {},
   "outputs": [
    {
     "name": "stdout",
     "output_type": "stream",
     "text": [
      "Po runs through  Italy\n",
      "Nile runs through  Egypt\n",
      "Mississippi runs through  Usa\n"
     ]
    }
   ],
   "source": [
    "rivers = {\"po\" : \"italy\", \"nile\": \"egypt\", \"mississippi\": \"usa\"}\n",
    "\n",
    "riv_items = rivers.items()\n",
    "\n",
    "for k, v in riv_items:\n",
    "    print(k.title(), \"runs through \", v.title())"
   ]
  },
  {
   "cell_type": "code",
   "execution_count": 19,
   "id": "b7e99a7a",
   "metadata": {},
   "outputs": [
    {
     "name": "stdout",
     "output_type": "stream",
     "text": [
      "po\n",
      "nile\n",
      "mississippi\n"
     ]
    }
   ],
   "source": [
    "for k, v in riv_items:\n",
    "    print(k)"
   ]
  },
  {
   "cell_type": "code",
   "execution_count": 20,
   "id": "b9dda8fa",
   "metadata": {},
   "outputs": [
    {
     "name": "stdout",
     "output_type": "stream",
     "text": [
      "italy\n",
      "egypt\n",
      "usa\n"
     ]
    }
   ],
   "source": [
    "for k, v in riv_items:\n",
    "    print(v)"
   ]
  },
  {
   "cell_type": "markdown",
   "id": "8567949b",
   "metadata": {},
   "source": [
    "## 6.7"
   ]
  },
  {
   "cell_type": "code",
   "execution_count": 21,
   "id": "b7ba1fb1",
   "metadata": {},
   "outputs": [],
   "source": [
    "Ale = {\"first_name\" : \"Alessandro\", \"last_name\" : \"Varisco\", \"age\" : 24, \"city\": \"Lesmo\"}\n",
    "\n",
    "Ila = {\"first_name\" : \"Ilaria\", \"last_name\" : \"Rosa\", \"age\" : 24, \"city\": \"Sesto San Giovanni\"}\n",
    "\n",
    "Julianna = {\"first_name\" : \"Julianna\", \"last_name\" : \"Paladino\", \"age\" : 23, \"city\": \"Quincy\"}"
   ]
  },
  {
   "cell_type": "code",
   "execution_count": 22,
   "id": "fe27a0fa",
   "metadata": {},
   "outputs": [
    {
     "name": "stdout",
     "output_type": "stream",
     "text": [
      "[{'first_name': 'Alessandro', 'last_name': 'Varisco', 'age': 24, 'city': 'Lesmo'}, {'first_name': 'Ilaria', 'last_name': 'Rosa', 'age': 24, 'city': 'Sesto San Giovanni'}, {'first_name': 'Julianna', 'last_name': 'Paladino', 'age': 23, 'city': 'Quincy'}]\n"
     ]
    }
   ],
   "source": [
    "people = [Ale, Ila, Julianna]\n",
    "\n",
    "print(people)"
   ]
  },
  {
   "cell_type": "code",
   "execution_count": 24,
   "id": "9c180c7c",
   "metadata": {},
   "outputs": [
    {
     "name": "stdout",
     "output_type": "stream",
     "text": [
      "first_name \n",
      " Alessandro\n",
      "last_name \n",
      " Varisco\n",
      "age \n",
      " 24\n",
      "city \n",
      " Lesmo\n",
      "first_name \n",
      " Ilaria\n",
      "last_name \n",
      " Rosa\n",
      "age \n",
      " 24\n",
      "city \n",
      " Sesto San Giovanni\n",
      "first_name \n",
      " Julianna\n",
      "last_name \n",
      " Paladino\n",
      "age \n",
      " 23\n",
      "city \n",
      " Quincy\n"
     ]
    }
   ],
   "source": [
    "for p in people:\n",
    "    p_item = p.items()\n",
    "    for k, v in p_item:\n",
    "        print(k, \"\\n\", v)"
   ]
  },
  {
   "cell_type": "markdown",
   "id": "38d9ac27",
   "metadata": {},
   "source": [
    "## 6.9"
   ]
  },
  {
   "cell_type": "code",
   "execution_count": 25,
   "id": "123cbe14",
   "metadata": {},
   "outputs": [],
   "source": [
    "fav_places = {\"Vale\": [\"Celle\", \"Boston\", \"Assisi\"], \"Ale\": [\"Monza\", \"Bratto\"], \"Ema\": [\"Testanello\"]}"
   ]
  },
  {
   "cell_type": "code",
   "execution_count": 28,
   "id": "b051ef06",
   "metadata": {},
   "outputs": [
    {
     "name": "stdout",
     "output_type": "stream",
     "text": [
      "Vale loves  Celle\n",
      "Vale loves  Boston\n",
      "Vale loves  Assisi\n",
      "Ale loves  Monza\n",
      "Ale loves  Bratto\n",
      "Ema loves  Testanello\n"
     ]
    }
   ],
   "source": [
    "fav_items = fav_places.items()\n",
    "\n",
    "for k, v in fav_items:\n",
    "    for i in v:\n",
    "        print(k, \"loves \", i)"
   ]
  },
  {
   "cell_type": "markdown",
   "id": "d1a7962d",
   "metadata": {},
   "source": [
    "## 6.11"
   ]
  },
  {
   "cell_type": "code",
   "execution_count": 29,
   "id": "077016f0",
   "metadata": {},
   "outputs": [],
   "source": [
    "cities = {\"Milan\": {\"country\" : \"italy\", \"population\" : 1300000, \"fact\": \"county seat\"}, \"Boston\": {\"country\": \"Massachussets\", \"population\" : 650000, \"fact\" : \"revolution\"}, \"Rome\" : {\"country\": \"italy\", \"population\": 2800000, \"fact\": \"Roman empire\"}}"
   ]
  },
  {
   "cell_type": "code",
   "execution_count": 30,
   "id": "6348fbe8",
   "metadata": {},
   "outputs": [],
   "source": [
    "cit_items = cities.items()"
   ]
  },
  {
   "cell_type": "code",
   "execution_count": 34,
   "id": "17c56679",
   "metadata": {},
   "outputs": [
    {
     "name": "stdout",
     "output_type": "stream",
     "text": [
      "Milan\n",
      "\n",
      " country italy\n",
      "\n",
      " population 1300000\n",
      "\n",
      " fact county seat\n",
      "Boston\n",
      "\n",
      " country Massachussets\n",
      "\n",
      " population 650000\n",
      "\n",
      " fact revolution\n",
      "Rome\n",
      "\n",
      " country italy\n",
      "\n",
      " population 2800000\n",
      "\n",
      " fact Roman empire\n"
     ]
    }
   ],
   "source": [
    "for k, v in cit_items:\n",
    "    print(k)\n",
    "    v_item = v.items()\n",
    "    for a, b in v_item:\n",
    "        print( \"\\n\", a, b)"
   ]
  },
  {
   "cell_type": "code",
   "execution_count": null,
   "id": "1b8790f3",
   "metadata": {},
   "outputs": [],
   "source": []
  }
 ],
 "metadata": {
  "kernelspec": {
   "display_name": "Python 3 (ipykernel)",
   "language": "python",
   "name": "python3"
  },
  "language_info": {
   "codemirror_mode": {
    "name": "ipython",
    "version": 3
   },
   "file_extension": ".py",
   "mimetype": "text/x-python",
   "name": "python",
   "nbconvert_exporter": "python",
   "pygments_lexer": "ipython3",
   "version": "3.11.4"
  }
 },
 "nbformat": 4,
 "nbformat_minor": 5
}
